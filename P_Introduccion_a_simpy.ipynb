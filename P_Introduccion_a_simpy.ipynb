{
  "nbformat": 4,
  "nbformat_minor": 0,
  "metadata": {
    "colab": {
      "provenance": [],
      "include_colab_link": true
    },
    "kernelspec": {
      "name": "python3",
      "display_name": "Python 3"
    }
  },
  "cells": [
    {
      "cell_type": "markdown",
      "metadata": {
        "id": "view-in-github",
        "colab_type": "text"
      },
      "source": [
        "<a href=\"https://colab.research.google.com/github/monicasofiarestrepo/SimulacionDeSIstemas/blob/main/P_Introduccion_a_simpy.ipynb\" target=\"_parent\"><img src=\"https://colab.research.google.com/assets/colab-badge.svg\" alt=\"Open In Colab\"/></a>"
      ]
    },
    {
      "cell_type": "markdown",
      "source": [
        "# <center>Práctica 8: Introducción a Simpy\n",
        "# <center>Simulación de Sistemas\n",
        "# <center>3007331 /  2023-2\n",
        "# <center>Universidad Nacional de Colombia, Medellín\n",
        "\n",
        "Esta guía se publica únicamente para su uso personal. No se permite su publicación ni difusión. La guía puede contener errores."
      ],
      "metadata": {
        "id": "d4nQDyYfuXo6"
      }
    },
    {
      "cell_type": "markdown",
      "metadata": {
        "id": "eJAhJO9OVUtR"
      },
      "source": [
        "# Simulación de eventos discretos\n",
        "Un programa de simulación se puede construir en cualquier lenguaje de programación que permita cálculos numéricos y lógicos. En los programas de simulación se requieren subrutinas y funciones reutilizables para realizar tareas concretas. Estas funciones y subrutinas dieron origen a paquetes y entornos de simulación que permiten construir modelos de un sistema sin ser expertos en programación.\n",
        "\n",
        "Hay varias formas de ver el mundo en la programación de simuladores de Eventos Discretos. Rashidi(2014) identifica las siguientes:\n",
        "\n",
        "\n",
        "1.   Programación de eventos\n",
        "2.   Escaneo de actividades / tres fases\n",
        "3.   Interacción de procesos\n",
        "\n",
        "## Programación de eventos:\n",
        "En esta visión del mundo, se identifica cuándo deben ocurrir las acciones y se escriben rutinas que describen de manera detallada las acciones que se activan cuando ocurre un evento. Los eventos programados deben guardarse en una lista. El mantenimiento de la lista de eventos programados hace parte del lenguaje de simulación y los modeladores desarrollan las rutinas de los eventos.\n",
        "\n",
        "##Escaneo de actividades\n",
        "El modelador identifica porqué ocurren las acciones del modelo; durante la simulación, se escanea el estatus de las actividades para saber cuáles se pueden activar cuando avanza el tiempo. Es decir, se busca si las condiciones que dan inicio a una actividad se satisfacen y en ese caso, la actividad inicia en el periodo de tiempo. El software de este tipo mantiene el tiempo del siguiente evento programado y un conjunto de condiciones para la iniciación de cada actividad.\n",
        "\n",
        "###Enfoque de tres fases:\n",
        "Este enfoque modifica el escaneo de actividades con el fin de evitar bloqueos y mantener el paralelismo. Hay un controlador de la simulación que repite un ciclo de tres fases:\n",
        "i) encontrar el siguiente evento y avanzar el reloj\n",
        "ii) ejecutar todas las actividades que se programaron y van a ocurrir; es decir, actividades que no son condicionales (B), como la finalización de un servicio. Estas actividades liberan recursos y entidades  y\n",
        "iii) ejecutar todas las actividades condicionales (C); es decir, las que dependen del cambio de estado de recursos o entidades.\n",
        "La simulación debe mantener como mínimo un reloj de la simulación y un calendario para asegurarse de que las actividades ye ventos se programan correctamente y que la secuencia de actividades es correcta.\n",
        "\n",
        "##Interacción de procesos\n",
        "En el enfoque de interacción de procesos, el modelador identifica los componentes y describe la secuencia de acciones de cada uno, concentrándose en el proceso de un objeto cuando pasa por el modelo.\n",
        "Los modelos de interacción de procesos pueden verse como un diagrama de bloques donde los bloques representan los procesos y las interconexiones representan caminos por donde se pueden mover los objetos.\n",
        "\n",
        "\n",
        "\n",
        "\n",
        "\n",
        "\n",
        "\n"
      ]
    },
    {
      "cell_type": "markdown",
      "source": [
        "# SimPy\n",
        "\n",
        "SimPy es un paquete de dominio público que combina ideas de dos paquetes anteriores, SiPy, de Klaus Muller y SimPy, de Tony Vignaux y Chang Chui. La documentación completa de SimPy se puede consultar aquí: https://pythonhosted.org/SimPy/index.html\n",
        "\n",
        "SimPy es un entorno de simulación de eventos discretos orientado a procesos que usa Phyton estándar e implementa co-rutinas eficientes usando generadores (https://simpy.readthedocs.io/en/latest/).\n",
        "\n",
        "Un generador permite declarar una función que se comporta como un iterador; los generadores son útiles cuando se necesita crear una secuencia grande de valores pero no almacenarlos en memoria. A diferencia de las funciones, que se reinician cada que se invocan, los generadores pueden suspender su trabajo temporalmente (yield) y retomarlo donde donde lo suspendieron.\n",
        "\n",
        "En SimPy las funciones generadoras se usan para representar objetos como entidades.\n",
        "\n",
        "En los sistemas hay recursos compartidos que limitan la capacidad y cuya escasez causa congestión; en SimPy estos recursos pueden ser\n",
        "\n",
        "\n",
        "\n",
        "> Recursos: recursos que pueden usarse por un número limitado de procesos al tiempo.\n",
        "\n",
        ">Contenedores: recursos que modelan la producción y consumo de un material no diferenciado.\n",
        "\n",
        ">Almacenes: recursos que permiten la producción y consumo de objetos de Python.\n",
        "\n",
        "\n",
        "SimPy programa eventos asíncronos y los despacha en orden. Los eventos se ordenan por prioridad, momento para el que están programados y orden de identificación ascendente.\n"
      ],
      "metadata": {
        "id": "eu-0Xr6FBDQr"
      }
    },
    {
      "cell_type": "markdown",
      "source": [
        "## Componentes de SimPy\n",
        "Los tres componentes principales son los entornos y eventos, mas las funciones de procesos que programe el modelador.\n",
        "###Entornos (Environment)\n",
        "Son el control de la simulación. El entorno o ambiente (environment) administra el tiempo y la programación y procesamiento de eventos y también tiene formas de ejecutar la simulación paso a paso o de corrido.\n",
        "\n",
        "En SimPy la simulación se puede ejecutar hasta que no haya más eventos:\n",
        "```\n",
        "Environment.run()\n",
        "```\n",
        "Pero es más recomendable ejecutarla hasta que se alcance un tiempo de simulación dado; por ejemplo, cuando se alcance el tiempo de 10 se termina la simulación sin procesar los eventos programados para el tiempo 10:\n",
        "```\n",
        "Environment.run(until=10)\n",
        "```\n",
        "En ocasiones se desea ejecutar la simulación hasta que ocurra cierto evento.\n",
        "```\n",
        "Environment.run(until=env.timeout(5))\n",
        "```\n",
        "##Eventos\n",
        "\n",
        "Los eventos son ocurrencias futuras, diferidas. Los posibles estados de un evento son:\n",
        "\n",
        "> puede pasar (no disparado) **not triggered**\n",
        "\n",
        "> va a pasar  (disparado) **triggered**\n",
        "\n",
        "> ya pasó     (procesado) **processed**\n",
        "\n",
        "Inicialmente, el evento es un objeto en la memoria; está en el estado no disparado,  esperando ser activado.\n",
        "\n",
        "Cuando se dispara: Event.triggered IS True,  el evento entra a la programación de eventos, la cual está ordenada por prioridad, tiempo e identificador. Mientras el evento no alcance el estado de procesado, se pueden agregar llamados a funciones que usan el evento de argumento (callbacks). Estos llamados están en la lista de callbacks del evento.  \n",
        "\n",
        "Cuando SimPy toma el evento del calendario y llama todos sus callbacks, el evento pasa al estado procesado: Event.processed IS True\n",
        "\n",
        "Event es la clase básica para todos los eventos de Simpy.\n",
        "Aunque Event se puede usar directamente, tiene las siguientes sub-clases especializadas:\n",
        "\n",
        "``` Event(env) ``` es un evento que puede pasar en un momento en el tiempo.\n",
        "\n",
        "```Timeout(env, delay[, value])``` es un evento que se procesa después de que pasa un tiempo de retardo **delay**\n",
        "\n",
        "```Process(env, generator) ```  es un generador de eventos.\n",
        "\n",
        "``` AnyOf(env, events) ```  es un evento condicionado, que se dispara si cualquiera de los eventos de la lista se disparó exitosamente\n",
        "\n",
        "\n",
        "``` AllOf(env, events) ```  Es un evento condicionado que se dispara si **todos** los eventos de la lista fueron exitosos.\n"
      ],
      "metadata": {
        "id": "C_g_ApMpmau8"
      }
    },
    {
      "cell_type": "markdown",
      "metadata": {
        "id": "TevZPb7FsBni"
      },
      "source": [
        " ## Instalación de Simpy"
      ]
    },
    {
      "cell_type": "markdown",
      "metadata": {
        "id": "vdmrDLpwU0Ms"
      },
      "source": [
        "\n",
        "\n",
        "Las instrucciones para instalar Simpy se pueden consultar aquí\n",
        "https://simpy.readthedocs.io/en/latest/simpy_intro/installation.html\n",
        "El comando para instalar es:\n",
        "```\n",
        " !pip install simpy\n",
        "```\n",
        "\n"
      ]
    },
    {
      "cell_type": "code",
      "metadata": {
        "id": "suEDy0h5Ztgk",
        "outputId": "3154bb58-dec9-4bf1-e915-d06d603b4945",
        "colab": {
          "base_uri": "https://localhost:8080/"
        }
      },
      "source": [
        "!pip install simpy #Instalar simpy"
      ],
      "execution_count": null,
      "outputs": [
        {
          "output_type": "stream",
          "name": "stdout",
          "text": [
            "Collecting simpy\n",
            "  Downloading simpy-4.0.2-py2.py3-none-any.whl (30 kB)\n",
            "Installing collected packages: simpy\n",
            "Successfully installed simpy-4.0.2\n"
          ]
        }
      ]
    },
    {
      "cell_type": "markdown",
      "metadata": {
        "id": "B-8CIShEZ7Gj"
      },
      "source": [
        "Una vez instalado simpy, se importa el paquete antes de usarlo, así:"
      ]
    },
    {
      "cell_type": "code",
      "metadata": {
        "id": "QvDlbN6NZ6P0"
      },
      "source": [
        "import simpy # Para importar a Simpy"
      ],
      "execution_count": null,
      "outputs": []
    },
    {
      "cell_type": "markdown",
      "source": [
        "Prueba de la instalación"
      ],
      "metadata": {
        "id": "Z50MOKSnXXD9"
      }
    },
    {
      "cell_type": "code",
      "source": [
        "import simpy\n",
        "\n",
        "def example(env):\n",
        "    event = simpy.events.Timeout(env, delay=1, value=42)\n",
        "    value = yield event\n",
        "    print('now=%d, value=%d' % (env.now, value))\n",
        "\n",
        "env = simpy.Environment()\n",
        "example_gen = example(env)\n",
        "p = simpy.events.Process(env, example_gen)\n",
        "\n",
        "env.run()"
      ],
      "metadata": {
        "colab": {
          "base_uri": "https://localhost:8080/"
        },
        "id": "Q4PB39j4COec",
        "outputId": "a4fb63e9-cd3b-4184-811c-7eb5043ce202"
      },
      "execution_count": null,
      "outputs": [
        {
          "output_type": "stream",
          "name": "stdout",
          "text": [
            "now=1, value=42\n"
          ]
        }
      ]
    },
    {
      "cell_type": "markdown",
      "metadata": {
        "id": "ZaiwYc7XsJ70"
      },
      "source": [
        " ### Procesos y entorno de ejecución\n",
        "\n",
        "\n",
        "Este ejemplo es tomado de:\n",
        "\n",
        "https://simpy.readthedocs.io/en/latest/simpy_intro/basic_concepts.html\n",
        "\n",
        "En el ejemplo un carro anda y estaciona.\n",
        "\n",
        "El carro es un componente activo y se modela como un proceso. Para crear eventos, el evento carro requiere un entorno, **Environment (env)**.\n",
        "\n",
        "El proceso ``` carro(env)``` es un generador. El ciclo infinito del generador no termina nunca, pero cada que se alcanza la instrucción **yield**, se devuelve el control a la simulación.\n",
        "\n",
        "Cuando el evento entregado por **yield** se procesa (ocurre)\n",
        "la simulación retoma el proceso en este punto.\n",
        "\n",
        "El carro tiene dos estados: andando y estacionado. Cada que alcanza uno de sus dos estados, se imprimen el estado y el tiempo simulado actual. Este último es una propiedad de Environment:\n",
        "```Environment.now()```.\n",
        "El carro permanecerá en este estado durante un tiempo igual a **delay**. Por ejemplo, si el carro entra al estado \"estacionado\" en el tiempo ```Environment.now()```, se programa un evento ``` Environment.Timeout(delay)``` a ocurir dentro de **delay= duración_parqueo** unidades de tiempo.\n"
      ]
    },
    {
      "cell_type": "code",
      "metadata": {
        "id": "t6xr7y8IVSlk",
        "outputId": "88437d29-e242-4361-c7cc-c4924a66f1a5",
        "colab": {
          "base_uri": "https://localhost:8080/"
        }
      },
      "source": [
        "def carro(env):\n",
        "  while True :\n",
        "    print('Estacionó en el tiempo %d' % env.now)\n",
        "    # env.now es una función del ambiente que regresa el tiempo actual simulado (el tiempo del reloj)\n",
        "    duracion_parqueo = 5\n",
        "    # en este caso, la duración del parqueo es fija; para hacerla aleatoria, debe definir una función. Eso lo veremos más adelante.\n",
        "    yield env.timeout(duracion_parqueo)\n",
        "    # yield es una palabra clave, es un comando que espera un evento sincrónico.\n",
        "    # En este caso es env.timeout que genera la duración de la actividad parqueo y lo guarda en el calendario de eventos\n",
        "    #lo que se programa en el calendario de eventos es la finalización de la actividad parqueo\n",
        "    print('Arrancó en el tiempo %d' % env.now)\n",
        "    duracion_viaje = 2\n",
        "    yield env.timeout(duracion_viaje)\n",
        "\n",
        "env = simpy.Environment()\n",
        "env.process(carro(env))\n",
        "env.run(until=15)"
      ],
      "execution_count": null,
      "outputs": [
        {
          "output_type": "stream",
          "name": "stdout",
          "text": [
            "Estacionó en el tiempo 0\n",
            "Arrancó en el tiempo 5\n",
            "Estacionó en el tiempo 7\n",
            "Arrancó en el tiempo 12\n",
            "Estacionó en el tiempo 14\n"
          ]
        }
      ]
    },
    {
      "cell_type": "markdown",
      "metadata": {
        "id": "dGsjWfRVevpF"
      },
      "source": [
        "### Interacción entre procesos"
      ]
    },
    {
      "cell_type": "markdown",
      "metadata": {
        "id": "ev4hWs_H2s1G"
      },
      "source": [
        "La instancia de proceso devuelta por Environment.process() se puede utilizar para representar interacciones de procesos. De esta manera se puede:\n",
        "\n",
        "*   Esperar a que un proceso termine e\n",
        "*   Interrumpir un proceso que está esperando a que ocurra un evento\n",
        "\n",
        "Los procesos en Simpy pueden ser tratados como eventos; es decir, al crear un proceso dentro de la ejecución de otro con el comando ```yield```, el ambiente iniciará el proceso creado y solo volverá el actual cuando haya terminado.\n",
        "\n",
        "Suponga que el carro del ejemplo anterior es eléctrico y que recarga su batería mientras está estacionado. La carga de baterías dura un tiempo largo y suponga que la batería debe recargarse del todo antes de volver a conducir el carro. Para modelar el comportamiento del carro mientras se recargan las baterías se crea el proceso  ` carga()`.  El proceso ` carga()` se ejecuta dentro del proceso principal `carro()` y termina cuando se procesa el evento `env.timeout(duracion)`.\n",
        "\n"
      ]
    },
    {
      "cell_type": "code",
      "metadata": {
        "id": "yW-tColJeniO",
        "outputId": "010c5374-3b79-4740-9196-05b1d843075b",
        "colab": {
          "base_uri": "https://localhost:8080/"
        }
      },
      "source": [
        "import simpy\n",
        "\n",
        "def carga(env, duracion):\n",
        "  print('25% de carga')\n",
        "  print('50% de carga')\n",
        "  print('Carga completa')\n",
        "  yield env.timeout(duracion)\n",
        "\n",
        "def carro(env):\n",
        "  while True:\n",
        "    print('Estacionó en el tiempo %d' % env.now)\n",
        "\n",
        "    duracion_carga = 5\n",
        "\n",
        "    yield env.process(carga(env,duracion_carga))\n",
        "\n",
        "    print('Terminó de cargar en tiempo %d y arrancó' % env.now)\n",
        "\n",
        "    duracion_viaje = 2\n",
        "    yield env.timeout(duracion_viaje)\n",
        "\n",
        "    print('Terminó viaje en tiempo %d' % env.now)\n",
        "\n",
        "\n",
        "env = simpy.Environment()\n",
        "env.process(carro(env))\n",
        "env.run(until=15)"
      ],
      "execution_count": null,
      "outputs": [
        {
          "output_type": "stream",
          "name": "stdout",
          "text": [
            "Estacionó en el tiempo 0\n",
            "25% de carga\n",
            "50% de carga\n",
            "Carga completa\n",
            "Terminó de cargar en tiempo 5 y arrancó\n",
            "Terminó viaje en tiempo 7\n",
            "Estacionó en el tiempo 7\n",
            "25% de carga\n",
            "50% de carga\n",
            "Carga completa\n",
            "Terminó de cargar en tiempo 12 y arrancó\n",
            "Terminó viaje en tiempo 14\n",
            "Estacionó en el tiempo 14\n",
            "25% de carga\n",
            "50% de carga\n",
            "Carga completa\n"
          ]
        }
      ]
    },
    {
      "cell_type": "markdown",
      "metadata": {
        "id": "-H3SG5nrXJfj"
      },
      "source": [
        "#### Interrupción de procesos\n"
      ]
    },
    {
      "cell_type": "markdown",
      "metadata": {
        "id": "sjYWvo5-XNiR"
      },
      "source": [
        "En la realidad se puede interrumpir la carga de la batería de un carro eléctrico y continuar con su conducción.\n",
        "El método `interrupt()` de SimPy permite interrumpir un proceso; en este caso, el proceso interrumpido es `carga()`.\n",
        "La interrupción se trata como una excepción. Las excepciones son clases generales que tienen una propiedad llamada causa (`cause`) que es la razón para interrumpir y que puede ser `none` si no hay alguna.\n",
        "\n",
        "El proceso `driver` espera 3 unidades de tiempo e interrumpe lo que esté haciendo el carro.\n",
        "\n",
        "\n",
        "\n",
        "```\n",
        "def driver(env, car):\n",
        "  yield env.timeout(3)\n",
        "  car.interrupt()\n",
        "```\n",
        "\n",
        "En el proceso `carro` los comandos `try` y `except` se usan para que se ejecute el proceso `carga` a menos que haya una excepción, que es la interrupción de la carga.\n",
        "\n",
        "\n",
        "\n",
        "```\n",
        "try:\n",
        "      yield env.process(carga(env,duracion_carga))\n",
        "    except simpy.Interrupt:\n",
        "      print('Carga interrumpida en el tiempo %d'% env.now)\n",
        "    print('Arrancó')\n",
        "```\n",
        "\n",
        "\n"
      ]
    },
    {
      "cell_type": "code",
      "metadata": {
        "id": "zeGAOerLY6WO",
        "outputId": "3c4ecae6-9013-4bc9-e472-9ade563375b8",
        "colab": {
          "base_uri": "https://localhost:8080/"
        }
      },
      "source": [
        "import simpy\n",
        "#modificar carga para mostrar la interrupción\n",
        "def carga(env, duracion):\n",
        "  yield env.timeout(duracion)\n",
        "\n",
        "\n",
        "\n",
        "def driver(env, car):\n",
        "  yield env.timeout(3)\n",
        "  car.interrupt()\n",
        "\n",
        "def carro(env):\n",
        "  while True:\n",
        "    print('Estacionó en el tiempo %d e inició la carga' % env.now)\n",
        "\n",
        "    duracion_carga = 5\n",
        "    try:\n",
        "      yield env.process(carga(env,duracion_carga))\n",
        "    except simpy.Interrupt:\n",
        "      print('Carga interrumpida en el tiempo %d'% env.now)\n",
        "\n",
        "    print('Arrancó')\n",
        "\n",
        "    duracion_viaje = 2\n",
        "    yield env.timeout(duracion_viaje)\n",
        "\n",
        "    print('Terminó viaje en el tiempo %d' % env.now)\n",
        "\n",
        "\n",
        "# Ejecución de la simulación\n",
        "env = simpy.Environment()\n",
        "car = env.process(carro(env))\n",
        "driver = env.process(driver(env,car))\n",
        "# correr el modelo 15 unidades de tiempo\n",
        "env.run(until=15)"
      ],
      "execution_count": null,
      "outputs": [
        {
          "output_type": "stream",
          "name": "stdout",
          "text": [
            "Estacionó en el tiempo 0 e inició la carga\n",
            "Carga interrumpida en el tiempo 3\n",
            "Arrancó\n",
            "Terminó viaje en el tiempo 5\n",
            "Estacionó en el tiempo 5 e inició la carga\n",
            "Arrancó\n",
            "Terminó viaje en el tiempo 12\n",
            "Estacionó en el tiempo 12 e inició la carga\n"
          ]
        }
      ]
    },
    {
      "cell_type": "markdown",
      "metadata": {
        "id": "-v8hkWbCcWvi"
      },
      "source": [
        "## Referencias\n",
        "\n",
        "Ejemplos y definiciones tomadas de la pagina oficial de simpy: https://simpy.readthedocs.io/en/latest/simpy_intro/basic_concepts.html"
      ]
    }
  ]
}