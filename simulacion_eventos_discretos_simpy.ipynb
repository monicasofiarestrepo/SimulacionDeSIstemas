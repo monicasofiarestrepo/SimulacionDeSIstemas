{
  "nbformat": 4,
  "nbformat_minor": 0,
  "metadata": {
    "colab": {
      "provenance": [],
      "authorship_tag": "ABX9TyNXGKYHmxXQ+exOvy4IIYoW",
      "include_colab_link": true
    },
    "kernelspec": {
      "name": "python3",
      "display_name": "Python 3"
    },
    "language_info": {
      "name": "python"
    }
  },
  "cells": [
    {
      "cell_type": "markdown",
      "metadata": {
        "id": "view-in-github",
        "colab_type": "text"
      },
      "source": [
        "<a href=\"https://colab.research.google.com/github/monicasofiarestrepo/SimulacionDeSIstemas/blob/main/simulacion_eventos_discretos_simpy.ipynb\" target=\"_parent\"><img src=\"https://colab.research.google.com/assets/colab-badge.svg\" alt=\"Open In Colab\"/></a>"
      ]
    },
    {
      "cell_type": "markdown",
      "source": [
        "Ej.4.3 Banks. A la  caja de una tienda llegan clientes con un tiempo entre llegadas distribuido como exponencial con media de 4.5 minutos y los tiempos de servicio de la única caja se distribuyen de manera aproximadamente normal con media de 3.2 minutos y desviación estándar de 0.6 minutos. La aproximación de los tiempos de servicio es siempre positiva.\n",
        "\n",
        "Cuando el cajero está ocupado, los clientes se hacen en cola y se supone que ningún cliente se va. Simular la atención de 1000 clientes."
      ],
      "metadata": {
        "id": "5xQ7H9-CnRpj"
      }
    },
    {
      "cell_type": "code",
      "source": [
        "!pip install simpy"
      ],
      "metadata": {
        "colab": {
          "base_uri": "https://localhost:8080/"
        },
        "id": "MdjRv2EBonpK",
        "outputId": "81bf4458-fa11-49ce-844f-331753b40056"
      },
      "execution_count": 2,
      "outputs": [
        {
          "output_type": "stream",
          "name": "stdout",
          "text": [
            "Collecting simpy\n",
            "  Downloading simpy-4.0.2-py2.py3-none-any.whl (30 kB)\n",
            "Installing collected packages: simpy\n",
            "Successfully installed simpy-4.0.2\n"
          ]
        }
      ]
    },
    {
      "cell_type": "code",
      "source": [
        "import simpy\n",
        "import random\n",
        "\n",
        "RANDOM_SEED = 42\n",
        "NEW_CUSTOMERS = 10  # número total de clientes\n",
        "INTERVAL_CUSTOMERS = 4.5  # Generar nuevos clientes cada x minutos\n",
        "\n",
        "# Generación de llegadas distribuidas exponencialmente\n",
        "def llegadas(env,num,tasa,caja):\n",
        "  for i in range(num):\n",
        "    c=cliente(env, 'Cliente%02d'% i, caja, mus=3.2,stds=0.6 )\n",
        "    env.process(c)\n",
        "    t = random.expovariate(1.0 / tasa)\n",
        "    yield env.timeout(t)\n",
        "# Cada cliente requiere la caja y tiene un tiempo de servicio aprox. N(mu,stds)\n",
        "def cliente(env, name, caja, mus,stds):\n",
        "    #llega un cliente, registrar momento\n",
        "    arrive = env.now\n",
        "    print('%7.4f %s: Llegó' % (arrive, name))\n",
        "    with caja.request() as req:\n",
        "        yield req\n",
        "        wait = env.now - arrive\n",
        "        print('%7.4f %s: Esperó %6.3f' % (env.now, name, wait))\n",
        "        tib=random.normalvariate(mus,stds)\n",
        "        yield env.timeout(tib)\n",
        "        print('%7.4f %s: Acabó' % (env.now, name))\n",
        "\n",
        "\n",
        "# Simulación, configuración\n",
        "print('Caja')\n",
        "random.seed(RANDOM_SEED)\n",
        "env = simpy.Environment()\n",
        "\n",
        "# Ejecución de los procesos y la simulación\n",
        "caja = simpy.Resource(env, capacity=1)\n",
        "env.process(llegadas(env, NEW_CUSTOMERS, INTERVAL_CUSTOMERS, caja))\n",
        "env.run()"
      ],
      "metadata": {
        "colab": {
          "base_uri": "https://localhost:8080/"
        },
        "id": "qx5AllDPnYIB",
        "outputId": "820ce9ac-4f60-44ae-c9be-ced4ab0e9bfb"
      },
      "execution_count": 3,
      "outputs": [
        {
          "output_type": "stream",
          "name": "stdout",
          "text": [
            "Caja\n",
            " 0.0000 Cliente00: Llegó\n",
            " 0.0000 Cliente00: Esperó  0.000\n",
            " 2.5256 Cliente00: Acabó\n",
            " 4.5903 Cliente01: Llegó\n",
            " 4.5903 Cliente01: Esperó  0.000\n",
            " 5.7269 Cliente02: Llegó\n",
            " 8.5431 Cliente01: Acabó\n",
            " 8.5431 Cliente02: Esperó  2.816\n",
            "11.0077 Cliente02: Acabó\n",
            "15.7497 Cliente03: Llegó\n",
            "15.7497 Cliente03: Esperó  0.000\n",
            "15.8858 Cliente04: Llegó\n",
            "16.0069 Cliente05: Llegó\n",
            "17.0045 Cliente06: Llegó\n",
            "18.3642 Cliente03: Acabó\n",
            "18.3642 Cliente04: Esperó  2.478\n",
            "21.6236 Cliente04: Acabó\n",
            "21.6236 Cliente05: Esperó  5.617\n",
            "21.7272 Cliente07: Llegó\n",
            "21.7565 Cliente08: Llegó\n",
            "25.3057 Cliente05: Acabó\n",
            "25.3057 Cliente06: Esperó  8.301\n",
            "28.8148 Cliente06: Acabó\n",
            "28.8148 Cliente07: Esperó  7.088\n",
            "29.1319 Cliente09: Llegó\n",
            "31.8294 Cliente07: Acabó\n",
            "31.8294 Cliente08: Esperó 10.073\n",
            "35.9321 Cliente08: Acabó\n",
            "35.9321 Cliente09: Esperó  6.800\n",
            "40.3018 Cliente09: Acabó\n"
          ]
        }
      ]
    },
    {
      "cell_type": "markdown",
      "source": [
        "1. Identificar los eventos en el código anterior\n",
        "\n",
        "2. Identificar los datos de entrada del código anterior\n",
        "\n",
        "3. Con base en la guía suministrada, modificar el código para que un cliente que espere más de 10 minutos en cola abandone\n",
        "\n",
        "4. Modificar el código para calcular número de abandonos, tiempo promedio en el sistema, tiempo promedio en cola contando únicamente los que esperaron y contando todos los clientes.\n",
        "\n",
        "5. Con base en el ejemplo de la presentación de introducción a GPSS de la sección anterior (https://docs.google.com/presentation/d/1LNSwwpVfK_O6Rq-wtjtD7-cNqe7dA00DzfpfjdV5kqk/edit?usp=sharing), reproducir el modelo en GPSS y analizar los resultados."
      ],
      "metadata": {
        "id": "XD4fOXQOn5KR"
      }
    },
    {
      "cell_type": "code",
      "source": [
        "#@title Identificar los eventos en el código anterior\n",
        "\n"
      ],
      "metadata": {
        "id": "i4khw6WgqFSa"
      },
      "execution_count": null,
      "outputs": []
    },
    {
      "cell_type": "code",
      "source": [],
      "metadata": {
        "id": "Z-WdUm4Hn8V5"
      },
      "execution_count": null,
      "outputs": []
    }
  ]
}