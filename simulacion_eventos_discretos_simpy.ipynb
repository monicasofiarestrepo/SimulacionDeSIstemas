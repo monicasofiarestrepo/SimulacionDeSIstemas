{
  "nbformat": 4,
  "nbformat_minor": 0,
  "metadata": {
    "colab": {
      "provenance": [],
      "authorship_tag": "ABX9TyOHK79gOPK1MZNhCqhq3VaZ",
      "include_colab_link": true
    },
    "kernelspec": {
      "name": "python3",
      "display_name": "Python 3"
    },
    "language_info": {
      "name": "python"
    }
  },
  "cells": [
    {
      "cell_type": "markdown",
      "metadata": {
        "id": "view-in-github",
        "colab_type": "text"
      },
      "source": [
        "<a href=\"https://colab.research.google.com/github/monicasofiarestrepo/SimulacionDeSIstemas/blob/main/simulacion_eventos_discretos_simpy.ipynb\" target=\"_parent\"><img src=\"https://colab.research.google.com/assets/colab-badge.svg\" alt=\"Open In Colab\"/></a>"
      ]
    },
    {
      "cell_type": "markdown",
      "source": [],
      "metadata": {
        "id": "J65AM8FWdAVj"
      }
    },
    {
      "cell_type": "markdown",
      "source": [
        "Ej.4.3 Banks. A la  caja de una tienda llegan clientes con un tiempo entre llegadas distribuido como exponencial con media de 4.5 minutos y los tiempos de servicio de la única caja se distribuyen de manera aproximadamente normal con media de 3.2 minutos y desviación estándar de 0.6 minutos. La aproximación de los tiempos de servicio es siempre positiva.\n",
        "\n",
        "Cuando el cajero está ocupado, los clientes se hacen en cola y se supone que ningún cliente se va. Simular la atención de 1000 clientes."
      ],
      "metadata": {
        "id": "5xQ7H9-CnRpj"
      }
    },
    {
      "cell_type": "code",
      "source": [
        "!pip install simpy"
      ],
      "metadata": {
        "colab": {
          "base_uri": "https://localhost:8080/"
        },
        "id": "MdjRv2EBonpK",
        "outputId": "a1be0798-3da1-4ec6-a2d4-5ca164991285"
      },
      "execution_count": null,
      "outputs": [
        {
          "output_type": "stream",
          "name": "stdout",
          "text": [
            "Collecting simpy\n",
            "  Downloading simpy-4.0.2-py2.py3-none-any.whl (30 kB)\n",
            "Installing collected packages: simpy\n",
            "Successfully installed simpy-4.0.2\n"
          ]
        }
      ]
    },
    {
      "cell_type": "code",
      "source": [
        "import simpy\n",
        "import random\n",
        "\n",
        "RANDOM_SEED = 42\n",
        "NEW_CUSTOMERS = 10  # número total de clientes\n",
        "INTERVAL_CUSTOMERS = 4.5  # Generar nuevos clientes cada x minutos\n",
        "\n",
        "# Generación de llegadas distribuidas exponencialmente\n",
        "def llegadas(env,num,tasa,caja):\n",
        "  for i in range(num):\n",
        "    c=cliente(env, 'Cliente%02d'% i, caja, mus=3.2,stds=0.6 )\n",
        "    env.process(c)\n",
        "    t = random.expovariate(1.0 / tasa)\n",
        "    yield env.timeout(t)\n",
        "# Cada cliente requiere la caja y tiene un tiempo de servicio aprox. N(mu,stds)\n",
        "def cliente(env, name, caja, mus,stds):\n",
        "    #llega un cliente, registrar momento\n",
        "    arrive = env.now\n",
        "    print('%7.4f %s: Llegó\\n' % (arrive, name))\n",
        "    with caja.request() as req:\n",
        "        yield req\n",
        "        wait = env.now - arrive\n",
        "        print('%7.4f %s: Esperó %6.3f\\n' % (env.now, name, wait))\n",
        "        tib=random.normalvariate(mus,stds)\n",
        "        yield env.timeout(tib)\n",
        "        print('%7.4f %s: Acabó\\n' % (env.now, name))\n",
        "\n",
        "\n",
        "# Simulación, configuración\n",
        "print('Caja\\n')\n",
        "random.seed(RANDOM_SEED)\n",
        "env = simpy.Environment()\n",
        "\n",
        "# Ejecución de los procesos y la simulación\n",
        "caja = simpy.Resource(env, capacity=1)\n",
        "env.process(llegadas(env, NEW_CUSTOMERS, INTERVAL_CUSTOMERS, caja))\n",
        "env.run()"
      ],
      "metadata": {
        "colab": {
          "base_uri": "https://localhost:8080/"
        },
        "id": "qx5AllDPnYIB",
        "outputId": "a13f0159-aef3-41d9-8ebc-d3ce88a2964e"
      },
      "execution_count": null,
      "outputs": [
        {
          "output_type": "stream",
          "name": "stdout",
          "text": [
            "Caja\n",
            "\n",
            " 0.0000 Cliente00: Llegó\n",
            "\n",
            " 0.0000 Cliente00: Esperó  0.000\n",
            "\n",
            " 2.5256 Cliente00: Acabó\n",
            "\n",
            " 4.5903 Cliente01: Llegó\n",
            "\n",
            " 4.5903 Cliente01: Esperó  0.000\n",
            "\n",
            " 5.7269 Cliente02: Llegó\n",
            "\n",
            " 8.5431 Cliente01: Acabó\n",
            "\n",
            " 8.5431 Cliente02: Esperó  2.816\n",
            "\n",
            "11.0077 Cliente02: Acabó\n",
            "\n",
            "15.7497 Cliente03: Llegó\n",
            "\n",
            "15.7497 Cliente03: Esperó  0.000\n",
            "\n",
            "15.8858 Cliente04: Llegó\n",
            "\n",
            "16.0069 Cliente05: Llegó\n",
            "\n",
            "17.0045 Cliente06: Llegó\n",
            "\n",
            "18.3642 Cliente03: Acabó\n",
            "\n",
            "18.3642 Cliente04: Esperó  2.478\n",
            "\n",
            "21.6236 Cliente04: Acabó\n",
            "\n",
            "21.6236 Cliente05: Esperó  5.617\n",
            "\n",
            "21.7272 Cliente07: Llegó\n",
            "\n",
            "21.7565 Cliente08: Llegó\n",
            "\n",
            "25.3057 Cliente05: Acabó\n",
            "\n",
            "25.3057 Cliente06: Esperó  8.301\n",
            "\n",
            "28.8148 Cliente06: Acabó\n",
            "\n",
            "28.8148 Cliente07: Esperó  7.088\n",
            "\n",
            "29.1319 Cliente09: Llegó\n",
            "\n",
            "31.8294 Cliente07: Acabó\n",
            "\n",
            "31.8294 Cliente08: Esperó 10.073\n",
            "\n",
            "35.9321 Cliente08: Acabó\n",
            "\n",
            "35.9321 Cliente09: Esperó  6.800\n",
            "\n",
            "40.3018 Cliente09: Acabó\n",
            "\n"
          ]
        }
      ]
    },
    {
      "cell_type": "markdown",
      "source": [
        "1. Identificar los eventos en el código anterior\n",
        "\n",
        "2. Identificar los datos de entrada del código anterior\n",
        "\n",
        "3. Con base en la guía suministrada, modificar el código para que un cliente que espere más de 10 minutos en cola abandone\n",
        "\n",
        "4. Modificar el código para calcular número de abandonos, tiempo promedio en el sistema, tiempo promedio en cola contando únicamente los que esperaron y contando todos los clientes.\n",
        "\n",
        "5. Con base en el ejemplo de la presentación de introducción a GPSS de la sección anterior (https://docs.google.com/presentation/d/1LNSwwpVfK_O6Rq-wtjtD7-cNqe7dA00DzfpfjdV5kqk/edit?usp=sharing), reproducir el modelo en GPSS y analizar los resultados."
      ],
      "metadata": {
        "id": "XD4fOXQOn5KR"
      }
    },
    {
      "cell_type": "markdown",
      "source": [
        "#Identificar los eventos en el código anterior\n",
        "\n",
        "Los eventos del codigo anterior (el original de la práctica sin modificaciones)son:\n",
        "Caja\n",
        "\n",
        " 0.0000 Cliente00: Llegó\n",
        "\n",
        " 0.0000 Cliente00: Esperó  0.000\n",
        "\n",
        " 2.5256 Cliente00: Acabó\n",
        "\n",
        " 4.5903 Cliente01: Llegó\n",
        "\n",
        " 4.5903 Cliente01: Esperó  0.000\n",
        "\n",
        " 5.7269 Cliente02: Llegó\n",
        "\n",
        " 8.5431 Cliente01: Acabó\n",
        "\n",
        " 8.5431 Cliente02: Esperó  2.816\n",
        "\n",
        "11.0077 Cliente02: Acabó\n",
        "\n",
        "15.7497 Cliente03: Llegó\n",
        "\n",
        "15.7497 Cliente03: Esperó  0.000\n",
        "\n",
        "15.8858 Cliente04: Llegó\n",
        "\n",
        "16.0069 Cliente05: Llegó\n",
        "\n",
        "17.0045 Cliente06: Llegó\n",
        "\n",
        "18.3642 Cliente03: Acabó\n",
        "\n",
        "18.3642 Cliente04: Esperó  2.478\n",
        "\n",
        "21.6236 Cliente04: Acabó\n",
        "\n",
        "21.6236 Cliente05: Esperó  5.617\n",
        "\n",
        "21.7272 Cliente07: Llegó\n",
        "\n",
        "21.7565 Cliente08: Llegó\n",
        "\n",
        "25.3057 Cliente05: Acabó\n",
        "\n",
        "25.3057 Cliente06: Esperó  8.301\n",
        "\n",
        "28.8148 Cliente06: Acabó\n",
        "\n",
        "28.8148 Cliente07: Esperó  7.088\n",
        "\n",
        "29.1319 Cliente09: Llegó\n",
        "\n",
        "31.8294 Cliente07: Acabó\n",
        "\n",
        "31.8294 Cliente08: Esperó 10.073\n",
        "\n",
        "35.9321 Cliente08: Acabó\n",
        "\n",
        "35.9321 Cliente09: Esperó  6.800\n",
        "\n",
        "40.3018 Cliente09: Acabó\n",
        "\n",
        " En SimPy un evento es una representación de un suceso específico en un sistema de simulación, y se utiliza para controlar y modelar el flujo del tiempo y el comportamiento del sistema. Los eventos puestos arriba traen su estampa de tiempo y descripción."
      ],
      "metadata": {
        "id": "JGUWRmShag29"
      }
    },
    {
      "cell_type": "markdown",
      "source": [
        "#Identificar los datos de entrada del código anterior\n",
        "\n",
        "1. Número total de clientes (NEW_CUSTOMERS)\n",
        "2. El intervalo entre llegadas de clientes (INTERVAL_CUSTOMERS)\n",
        "3. Los parámetros de distribución para el tiempo de servicio de los clientes (mus y stds)."
      ],
      "metadata": {
        "id": "vv_kefCJb05A"
      }
    },
    {
      "cell_type": "code",
      "source": [
        "#@title modificar el código para que un cliente que espere más de 10 minutos en cola abandone\n",
        "\n",
        "import simpy\n",
        "import random\n",
        "\n",
        "RANDOM_SEED = 42\n",
        "NEW_CUSTOMERS = 10  # número total de clientes\n",
        "INTERVAL_CUSTOMERS = 4.5  # Generar nuevos clientes cada x minutos\n",
        "MAX_WAIT_TIME = 10.0  # Máximo tiempo de espera en minutos, son 10 por requerimientos del ejercicio\n",
        "\n",
        "# Generación de llegadas distribuidas exponencialmente\n",
        "def llegadas(env, num, tasa, caja):\n",
        "    for i in range(num):\n",
        "        c = cliente(env, 'Cliente%02d' % i, caja, mus=3.2, stds=0.6)\n",
        "        env.process(c)\n",
        "        t = random.expovariate(1.0 / tasa)\n",
        "        yield env.timeout(t)\n",
        "\n",
        "# Cada cliente requiere la caja y tiene un tiempo de servicio aprox. N(mu, stds)\n",
        "def cliente(env, name, caja, mus, stds):\n",
        "    # Llega un cliente, registrar momento\n",
        "    arrive = env.now\n",
        "    print('%7.4f %s: Llegó' % (arrive, name))\n",
        "\n",
        "    with caja.request() as req:\n",
        "        yield req\n",
        "        wait = env.now - arrive\n",
        "        print('%7.4f %s: Esperó %6.3f' % (env.now, name, wait))\n",
        "\n",
        "        # si el cliente ha esperado más de 10 minutos abandona la cola y no completa su tiempo de servicio.\n",
        "        if wait > MAX_WAIT_TIME:\n",
        "            print('%7.4f %s: Abandonó después de esperar %6.3f' % (env.now, name, wait))\n",
        "            return\n",
        "\n",
        "        tib = random.normalvariate(mus, stds)\n",
        "        yield env.timeout(tib)\n",
        "        print('%7.4f %s: Acabó' % (env.now, name))\n",
        "\n",
        "# Simulación, configuración\n",
        "print('Caja\\n')\n",
        "random.seed(RANDOM_SEED)\n",
        "env = simpy.Environment()\n",
        "\n",
        "# Ejecución de los procesos y la simulación\n",
        "caja = simpy.Resource(env, capacity=1)\n",
        "env.process(llegadas(env, NEW_CUSTOMERS, INTERVAL_CUSTOMERS, caja))\n",
        "env.run()"
      ],
      "metadata": {
        "id": "AcKYK4YhdR04",
        "outputId": "e94c47b6-7cbf-4ada-b49b-a2f1d64ff15b",
        "colab": {
          "base_uri": "https://localhost:8080/"
        }
      },
      "execution_count": null,
      "outputs": [
        {
          "output_type": "stream",
          "name": "stdout",
          "text": [
            "Caja\n",
            "\n",
            " 0.0000 Cliente00: Llegó\n",
            " 0.0000 Cliente00: Esperó  0.000\n",
            " 2.5256 Cliente00: Acabó\n",
            " 4.5903 Cliente01: Llegó\n",
            " 4.5903 Cliente01: Esperó  0.000\n",
            " 5.7269 Cliente02: Llegó\n",
            " 8.5431 Cliente01: Acabó\n",
            " 8.5431 Cliente02: Esperó  2.816\n",
            "11.0077 Cliente02: Acabó\n",
            "15.7497 Cliente03: Llegó\n",
            "15.7497 Cliente03: Esperó  0.000\n",
            "15.8858 Cliente04: Llegó\n",
            "16.0069 Cliente05: Llegó\n",
            "17.0045 Cliente06: Llegó\n",
            "18.3642 Cliente03: Acabó\n",
            "18.3642 Cliente04: Esperó  2.478\n",
            "21.6236 Cliente04: Acabó\n",
            "21.6236 Cliente05: Esperó  5.617\n",
            "21.7272 Cliente07: Llegó\n",
            "21.7565 Cliente08: Llegó\n",
            "25.3057 Cliente05: Acabó\n",
            "25.3057 Cliente06: Esperó  8.301\n",
            "28.8148 Cliente06: Acabó\n",
            "28.8148 Cliente07: Esperó  7.088\n",
            "29.1319 Cliente09: Llegó\n",
            "31.8294 Cliente07: Acabó\n",
            "31.8294 Cliente08: Esperó 10.073\n",
            "31.8294 Cliente08: Abandonó después de esperar 10.073\n",
            "31.8294 Cliente09: Esperó  2.698\n",
            "35.9321 Cliente09: Acabó\n"
          ]
        }
      ]
    },
    {
      "cell_type": "code",
      "source": [
        "#@title Modificar el código para calcular número de abandonos, tiempo promedio en el sistema, tiempo promedio en cola contando únicamente los que esperaron y contando todos los clientes.\n",
        "\n",
        "import simpy\n",
        "import random\n",
        "\n",
        "RANDOM_SEED = 42\n",
        "NEW_CUSTOMERS = 10  # número total de clientes\n",
        "INTERVAL_CUSTOMERS = 4.5  # Generar nuevos clientes cada x minutos\n",
        "MAX_WAIT_TIME = 10.0  # Máximo tiempo de espera en minutos\n",
        "\n",
        "# Variables para rastrear estadísticas\n",
        "abandonos = 0\n",
        "tiempo_promedio_en_sistema = 0\n",
        "tiempo_promedio_en_cola_esperando = 0\n",
        "tiempo_promedio_en_cola_total = 0\n",
        "\n",
        "# Generación de llegadas distribuidas exponencialmente\n",
        "def llegadas(env, num, tasa, caja):\n",
        "    global abandonos, tiempo_promedio_en_sistema, tiempo_promedio_en_cola_esperando, tiempo_promedio_en_cola_total\n",
        "    for i in range(num):\n",
        "        c = cliente(env, 'Cliente%02d' % i, caja, mus=3.2, stds=0.6)\n",
        "        env.process(c)\n",
        "        t = random.expovariate(1.0 / tasa)\n",
        "        yield env.timeout(t)\n",
        "\n",
        "# Cada cliente requiere la caja y tiene un tiempo de servicio aprox. N(mu, stds)\n",
        "def cliente(env, name, caja, mus, stds):\n",
        "    global abandonos, tiempo_promedio_en_sistema, tiempo_promedio_en_cola_esperando, tiempo_promedio_en_cola_total\n",
        "    # Llega un cliente, registrar momento\n",
        "    arrive = env.now\n",
        "    print('%7.4f %s: Llegó' % (arrive, name))\n",
        "\n",
        "    with caja.request() as req:\n",
        "        yield req\n",
        "        wait = env.now - arrive\n",
        "        tiempo_promedio_en_cola_total += wait  # Incluye tiempo en cola para todos los clientes\n",
        "        if wait > 0:  # Verifica si el cliente esperó en cola\n",
        "            tiempo_promedio_en_cola_esperando += wait  # Incluye tiempo en cola solo para los que esperaron\n",
        "        print('%7.4f %s: Esperó %6.3f' % (env.now, name, wait))\n",
        "\n",
        "        # Comprueba si el cliente ha esperado más de 10 minutos, y si es así, lo hace abandonar.\n",
        "        if wait > MAX_WAIT_TIME:\n",
        "            print('%7.4f %s: Abandonó después de esperar %6.3f' % (env.now, name, wait))\n",
        "            abandonos += 1\n",
        "            return\n",
        "\n",
        "        tib = random.normalvariate(mus, stds)\n",
        "        yield env.timeout(tib)\n",
        "        print('%7.4f %s: Acabó' % (env.now, name))\n",
        "        tiempo_en_sistema = env.now - arrive\n",
        "        tiempo_promedio_en_sistema += tiempo_en_sistema\n",
        "\n",
        "\n",
        "print('Caja\\n')\n",
        "random.seed(RANDOM_SEED)\n",
        "env = simpy.Environment()\n",
        "\n",
        "caja = simpy.Resource(env, capacity=1)\n",
        "env.process(llegadas(env, NEW_CUSTOMERS, INTERVAL_CUSTOMERS, caja))\n",
        "env.run()\n",
        "\n",
        "tiempo_promedio_en_sistema /= NEW_CUSTOMERS\n",
        "tiempo_promedio_en_cola_esperando /= NEW_CUSTOMERS\n",
        "tiempo_promedio_en_cola_total /= NEW_CUSTOMERS\n",
        "\n",
        "print(f'Número de abandonos: {abandonos}')\n",
        "print(f'Tiempo promedio en el sistema: {tiempo_promedio_en_sistema:.3f} minutos')\n",
        "print(f'Tiempo promedio en cola para los que esperaron: {tiempo_promedio_en_cola_esperando:.3f} minutos')\n",
        "print(f'Tiempo promedio en cola para todos los clientes: {tiempo_promedio_en_cola_total:.3f} minutos')\n"
      ],
      "metadata": {
        "id": "FepaHuAjfZs4",
        "outputId": "19b3d6db-d49e-4f5a-d2d7-05a7e5b2ca35",
        "colab": {
          "base_uri": "https://localhost:8080/"
        }
      },
      "execution_count": null,
      "outputs": [
        {
          "output_type": "stream",
          "name": "stdout",
          "text": [
            "Caja\n",
            "\n",
            " 0.0000 Cliente00: Llegó\n",
            " 0.0000 Cliente00: Esperó  0.000\n",
            " 2.5256 Cliente00: Acabó\n",
            " 4.5903 Cliente01: Llegó\n",
            " 4.5903 Cliente01: Esperó  0.000\n",
            " 5.7269 Cliente02: Llegó\n",
            " 8.5431 Cliente01: Acabó\n",
            " 8.5431 Cliente02: Esperó  2.816\n",
            "11.0077 Cliente02: Acabó\n",
            "15.7497 Cliente03: Llegó\n",
            "15.7497 Cliente03: Esperó  0.000\n",
            "15.8858 Cliente04: Llegó\n",
            "16.0069 Cliente05: Llegó\n",
            "17.0045 Cliente06: Llegó\n",
            "18.3642 Cliente03: Acabó\n",
            "18.3642 Cliente04: Esperó  2.478\n",
            "21.6236 Cliente04: Acabó\n",
            "21.6236 Cliente05: Esperó  5.617\n",
            "21.7272 Cliente07: Llegó\n",
            "21.7565 Cliente08: Llegó\n",
            "25.3057 Cliente05: Acabó\n",
            "25.3057 Cliente06: Esperó  8.301\n",
            "28.8148 Cliente06: Acabó\n",
            "28.8148 Cliente07: Esperó  7.088\n",
            "29.1319 Cliente09: Llegó\n",
            "31.8294 Cliente07: Acabó\n",
            "31.8294 Cliente08: Esperó 10.073\n",
            "31.8294 Cliente08: Abandonó después de esperar 10.073\n",
            "31.8294 Cliente09: Esperó  2.698\n",
            "35.9321 Cliente09: Acabó\n",
            "Número de abandonos: 1\n",
            "Tiempo promedio en el sistema: 5.812 minutos\n",
            "Tiempo promedio en cola para los que esperaron: 3.907 minutos\n",
            "Tiempo promedio en cola para todos los clientes: 3.907 minutos\n"
          ]
        }
      ]
    },
    {
      "cell_type": "markdown",
      "source": [
        "#REPRODUCCIÓN DEL MODELO EN GPSS"
      ],
      "metadata": {
        "id": "YKEjSZW0cm4-"
      }
    },
    {
      "cell_type": "code",
      "source": [
        "GENERATE 10, 4.5, 0\n",
        "QUEUE cola\n",
        "SERVER caja 1\n",
        "\n",
        "DELAY tiempo_llegada\n",
        "    ENTER cola\n",
        "    DEPART cola\n",
        "\n",
        "        IF tiempo_en_cola > 10 THEN\n",
        "            TERMINATE\n",
        "\n",
        "        ELSE\n",
        "            DELAY tiempo_servicio\n",
        "            DEPART caja\n",
        "        END\n",
        "\n",
        "TERMINATE\n"
      ],
      "metadata": {
        "id": "hInJSHeccuco"
      },
      "execution_count": null,
      "outputs": []
    }
  ]
}