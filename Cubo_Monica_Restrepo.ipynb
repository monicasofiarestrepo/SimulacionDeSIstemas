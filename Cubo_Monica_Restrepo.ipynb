{
  "nbformat": 4,
  "nbformat_minor": 0,
  "metadata": {
    "colab": {
      "provenance": [],
      "authorship_tag": "ABX9TyNArAMImx2fSczOxNmpEVQZ",
      "include_colab_link": true
    },
    "kernelspec": {
      "name": "python3",
      "display_name": "Python 3"
    },
    "language_info": {
      "name": "python"
    }
  },
  "cells": [
    {
      "cell_type": "markdown",
      "metadata": {
        "id": "view-in-github",
        "colab_type": "text"
      },
      "source": [
        "<a href=\"https://colab.research.google.com/github/monicasofiarestrepo/SimulacionDeSIstemas/blob/main/Cubo_Monica_Restrepo.ipynb\" target=\"_parent\"><img src=\"https://colab.research.google.com/assets/colab-badge.svg\" alt=\"Open In Colab\"/></a>"
      ]
    },
    {
      "cell_type": "code",
      "execution_count": null,
      "metadata": {
        "id": "JWyVVJHesbH-",
        "colab": {
          "base_uri": "https://localhost:8080/"
        },
        "outputId": "d06bee3d-4603-4d17-fa11-4b0301d954e4"
      },
      "outputs": [
        {
          "output_type": "stream",
          "name": "stdout",
          "text": [
            "0.6757593891965876 ± 0.019268575620922046\n"
          ]
        }
      ],
      "source": [
        "#Monica Sofia Restrepo Leon\n",
        "#taller cubo\n",
        "#https://colab.research.google.com/drive/1OPIkyb68Pl5HJPvXIxLt5pvgDjlEVhkA?usp=sharing\n",
        "\n",
        "import random\n",
        "import math\n",
        "\n",
        "distancias_promedios = []\n",
        "for a in range(20):\n",
        "  distancias = []\n",
        "  for i in range(50):\n",
        "    x1 = random.random()\n",
        "    y1 = random.random()\n",
        "    z1 = random.random()\n",
        "\n",
        "    x2 = random.random()\n",
        "    y2 = random.random()\n",
        "    z2 = random.random()\n",
        "\n",
        "    # distancia entre 2 puntos\n",
        "    distancia = math.sqrt( ((x1-x2)**2) + ((y1-y2)**2) + ((z1-z2)**2))\n",
        "    distancias.append(distancia)\n",
        "\n",
        "  promedio = sum(distancias)/len(distancias)\n",
        "  distancias_promedios.append(promedio)\n",
        "\n",
        "Media_Muestral = sum(distancias_promedios)/len(distancias_promedios)\n",
        "\n",
        "#Calculamos desviacion estandar\n",
        "\n",
        "aux = 0\n",
        "for x in distancias_promedios:\n",
        "  aux += ((x - Media_Muestral)**2)\n",
        "DesvEstandar = math.sqrt(aux/(len(distancias_promedios)-1))\n",
        "\n",
        "#el valor de la de la distribucion T es aproximadamente 2.093\n",
        "holgura = 2.93 * DesvEstandar / math.sqrt(len(distancias_promedios))\n",
        "print(f\"{Media_Muestral} ± {holgura}\")"
      ]
    }
  ]
}